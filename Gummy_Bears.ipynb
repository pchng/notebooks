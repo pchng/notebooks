{
  "nbformat": 4,
  "nbformat_minor": 0,
  "metadata": {
    "colab": {
      "name": "Gummy Bears",
      "provenance": [],
      "collapsed_sections": []
    },
    "kernelspec": {
      "name": "python3",
      "display_name": "Python 3"
    },
    "language_info": {
      "name": "python"
    }
  },
  "cells": [
    {
      "cell_type": "markdown",
      "metadata": {
        "id": "dtEEMh8lWvGc"
      },
      "source": [
        "# Gummy Bears\n",
        "I picked up a package of gummy bears which was called [_12 Flavor Gummi Bears_](https://www.albanesecandy.com/12-flavor-gummi-bears-r/).\n",
        "\n",
        "![12 Flavor Gummi Bears](https://cdn11.bigcommerce.com/s-riqk6cih6h/images/stencil/640w/products/534/1294/12-flavor-gummi-bears_1oz__59308.1626975777.jpg?c=1)\n",
        "\n",
        "On the back of the package, there was a statement: \n",
        "\n",
        "> DUE TO SIZE OF BAG,\n",
        ">\n",
        "> MAY NOT CONTAIN\n",
        ">\n",
        "> ALL 12 FLAVORS\n",
        "\n",
        "That got me thinking: What was the probability that a given bag _did_ contain all 12 flavors?"
      ]
    },
    {
      "cell_type": "markdown",
      "metadata": {
        "id": "N7uxs4GjWZT1"
      },
      "source": [
        "## Problem statement\n",
        "Let's first be clear what we're asking. We'll define the **_Gummy Bear Problem_** as follows:\n",
        "\n",
        "> A package has $n$ gummy bears. There are $m$ distinct flavors (or types) of gummy bears ($n \\geq m$). What is the probability that a package has _at least_ one of each flavor of gummy bear, i.e. that a package contains all possible flavors? \n",
        "> \n",
        "> Assume that when gummy bears are put into the package, each flavor of gummy bear has the same probability of being chosen, and that the selection of one gummy bear has no impact on the selection of other gummy bears."
      ]
    },
    {
      "cell_type": "markdown",
      "metadata": {
        "id": "Y0reQeIyXw0M"
      },
      "source": [
        "# Approach to the problem\n",
        "There are at least two ways to approach this problem:\n",
        "\n",
        "1. **Numerical approximation**: Run a simulation many times, and use the average results to come up with an approximation or _estimate_ of the solution.\n",
        "2. **Analytical solution**: Use some theory to come up with an expression that gives us the _exact_ answer.\n",
        "\n",
        "Let's look at each."
      ]
    },
    {
      "cell_type": "markdown",
      "metadata": {
        "id": "g04RjTG2NDFQ"
      },
      "source": [
        "# Numerical Approximation through simulation: Monte Carlo methods\n",
        "\n",
        "An approximate numerical solution can be easier to derive because it requires less understanding of probability theory. Furthermore, not all problems even have an analytical solution, but for those that do, the analytical solution is often more difficult to reason about.\n",
        "\n",
        "One numerical approach is using a simulation to estimate the solution. Let's code up a simulation where we will:\n",
        "\n",
        "1. Generate a package of $n$ gummy bears using $m$ equally-probable flavors/types.\n",
        "2. Determine if the package has all $m$ flavors.\n",
        "3. Do steps (1) and (2) many times, and count the number of times the generated package had all flavors.\n",
        "4. The fraction of times the package had all flavors will be our estimate of the probability.\n",
        "\n",
        "The main thing we need here is a source of randomness, which will be used in Step 1 above to generate a gummy bear package in the following way:\n",
        "\n",
        "1. In Python, we can use `random.randrange(m)` to generate a number between $[0, m - 1]$ which represents a gummy bear flavor. Each of the $m$ values thus has an equal chance of being generated each time we call this method.\n",
        "2. We then do this $n$ times and store each value in a list, which then represents a single gummy bear package or _sample_. We can do this because we assumed that gummy bears were selected independently, i.e. the previous flavor selections do not affect the subsequent selections.\n",
        "\n",
        "This can be done many times, after which we count the fraction of packages that had all flavors. The advantage of a numerical approximation like this is that it's relatively simple to understand, and doesn't require any special understanding of probability theory other than the assumption we've made that all flavors are equally probable."
      ]
    },
    {
      "cell_type": "code",
      "metadata": {
        "id": "Lui8-fLJRBSY"
      },
      "source": [
        "# Imports\n",
        "import random\n",
        "import statistics\n",
        "import time\n",
        "\n",
        "import matplotlib.pyplot as plt"
      ],
      "execution_count": 1,
      "outputs": []
    },
    {
      "cell_type": "code",
      "metadata": {
        "id": "Thy5u4KeLslB"
      },
      "source": [
        "# Helper functions\n",
        "# NOTE: This code is not necessarily optimized for speed, but instead for readability.\n",
        "\n",
        "# A gummy bear package is represented as a list of integers.\n",
        "# Each value will be in the range [0, num_types - 1]\n",
        "# This method returns a randomly-generated package of gummy bears assuming each flavor/type is equally-probably.\n",
        "def generate_gummy_bear_package_sample(package_size, num_types):\n",
        "  # Use the integers [0, num_types - 1] to represent a gummy bear type/flavor.\n",
        "  # random.randrange(num_types) will return a integer values in the range with equal probability.\n",
        "  return [random.randrange(num_types) for i in range(package_size)]\n",
        "\n",
        "# Returns the number of unique integer values in a list of integers.\n",
        "# This represents the number of unique flavors in the package.\n",
        "def get_num_unique_gummy_bear_types(gummy_bear_package):\n",
        "  # Dump the list into a set and get its size.\n",
        "  return len(set(gummy_bear_package))\n",
        "\n",
        "# We define one sample as one gummy bear package.\n",
        "# This generates the specified number of samples by generating a gummy bear package for each sample and\n",
        "# getting the number of unique flavors in that package.\n",
        "def generate_samples(num_samples, package_size, num_types):\n",
        "  # Generate a package of gummy bears for each sample, and return the number of unique types in each package.\n",
        "  # Each entry in the returned list is the number of unique types in the package generated for that samples.\n",
        "  return [get_num_unique_gummy_bear_types(generate_gummy_bear_package_sample(package_size, num_types)) for i in range(num_samples)]\n",
        "\n",
        "# We define a single trial (experiment) as:\n",
        "# 1. Generating a certain number of gummy bear packages (num_samples)\n",
        "# 2. Determining the fraction of those gummy bear packages that contained at least one of each flavor.\n",
        "# The fraction forms an estimate of the true probability.\n",
        "def run_single_trial(num_samples, package_size, num_types, print_results=False):\n",
        "  # A single trial will generate the specified number of gummy bear packages (sample size) and calculate the estimated probability from the results.\n",
        "  samples = generate_samples(num_samples, package_size, num_types)\n",
        "  num_packages_with_all_types = len([s for s in samples if s == num_types])\n",
        "  estimated_probability = num_packages_with_all_types/num_samples\n",
        "  if print_results: # For verbose output.\n",
        "    print(f'Out of {num_samples} samples (generating a package of gummy bears), {num_packages_with_all_types} packages contained all flavors for a fraction of {estimated_probability:.8f}')\n",
        "  return estimated_probability\n",
        "\n",
        "# Convenience method for running multiple trials.\n",
        "def run_trials(num_trials, num_samples, package_size, num_types):\n",
        "  start = time.time()\n",
        "  # Run a number of trials and return the estimated probability from each.\n",
        "  estimates = []\n",
        "  for i in range(num_trials):\n",
        "    estimates.append(run_single_trial(num_samples, package_size, num_types))\n",
        "  print_estimates(estimates, package_size, num_types)\n",
        "  print(f'Time taken: {(time.time() - start):.2f} seconds')\n",
        "  return estimates\n",
        "\n",
        "# Convenience method for printing out the results.\n",
        "def print_estimates(estimates, n, m):\n",
        "  print(f'Results for n={n}, m={m}')\n",
        "  print([f'{e:.8f}' for e in estimates])\n",
        "  print(f'mean: {statistics.mean(estimates):.8f}')"
      ],
      "execution_count": 6,
      "outputs": []
    },
    {
      "cell_type": "markdown",
      "metadata": {
        "id": "bISZBzmrFX96"
      },
      "source": [
        "Let's run a simulation of a few trials for $n = 12$ (number of gummy bears in a package) and $m = 12$. (number of gummy bear flavors)\n",
        "\n",
        "In this case, we're calculating an _estimate_ of the probability of a package of 12 gummy bears containing exactly all 12 flavors."
      ]
    },
    {
      "cell_type": "code",
      "source": [
        "num_samples = 1000000\n",
        "num_trials = 10"
      ],
      "metadata": {
        "id": "b0bT4_ck27JM"
      },
      "execution_count": 7,
      "outputs": []
    },
    {
      "cell_type": "code",
      "metadata": {
        "colab": {
          "base_uri": "https://localhost:8080/"
        },
        "id": "SPVw-3z6RiuJ",
        "outputId": "abc6c571-9d40-4724-fad5-827bdada43b4"
      },
      "source": [
        "# For n = 12, m = 12\n",
        "estimates = run_trials(num_trials, num_samples, package_size=12, num_types=12)"
      ],
      "execution_count": 8,
      "outputs": [
        {
          "output_type": "stream",
          "name": "stdout",
          "text": [
            "Results for n=12, m=12\n",
            "['0.00004900', '0.00005600', '0.00005000', '0.00005000', '0.00005300', '0.00006900', '0.00004700', '0.00005400', '0.00005300', '0.00005600']\n",
            "mean: 0.00005370\n",
            "Time taken: 124.11 seconds\n"
          ]
        }
      ]
    },
    {
      "cell_type": "markdown",
      "metadata": {
        "id": "pDJgKWMGRvxN"
      },
      "source": [
        "The estimated probability here is very low, as a probability of 0.00005 is about a 1 in 20,000 chance.\n",
        "\n",
        "Let's also run simulations for $n = \\{13, 14, 15, 25\\}, m = 12$:"
      ]
    },
    {
      "cell_type": "code",
      "metadata": {
        "colab": {
          "base_uri": "https://localhost:8080/"
        },
        "id": "Jy3zMij4Rux7",
        "outputId": "82dcc20d-5afa-4726-a733-da66a421fab2"
      },
      "source": [
        "# For n = 13, m = 12\n",
        "estimates = run_trials(num_trials, num_samples, package_size=13, num_types=12)"
      ],
      "execution_count": 9,
      "outputs": [
        {
          "output_type": "stream",
          "name": "stdout",
          "text": [
            "Results for n=13, m=12\n",
            "['0.00036500', '0.00031700', '0.00037500', '0.00033600', '0.00037600', '0.00036400', '0.00034400', '0.00036200', '0.00036000', '0.00035500']\n",
            "mean: 0.00035540\n",
            "Time taken: 137.21 seconds\n"
          ]
        }
      ]
    },
    {
      "cell_type": "markdown",
      "metadata": {
        "id": "Wp13KFbhVeeV"
      },
      "source": [
        "For a package size of 13 (one more than the number of flavors), the estimated probability is improved quite a bit, but is still very low. A probability of 0.00035 is about a 1 in 2900 chance."
      ]
    },
    {
      "cell_type": "code",
      "source": [
        "# For n = 14, m = 12\n",
        "estimates = run_trials(num_trials, num_samples, package_size=14, num_types=12)"
      ],
      "metadata": {
        "colab": {
          "base_uri": "https://localhost:8080/"
        },
        "id": "0AfSyTMdzd_5",
        "outputId": "1824e6d6-12a1-408c-fcd9-3b11b7bb88b1"
      },
      "execution_count": 10,
      "outputs": [
        {
          "output_type": "stream",
          "name": "stdout",
          "text": [
            "Results for n=14, m=12\n",
            "['0.00128300', '0.00129100', '0.00124800', '0.00123100', '0.00121400', '0.00120100', '0.00122900', '0.00124400', '0.00121600', '0.00125200']\n",
            "mean: 0.00124090\n",
            "Time taken: 144.67 seconds\n"
          ]
        }
      ]
    },
    {
      "cell_type": "markdown",
      "source": [
        "For a package size of 14, the chances are about 1 in 800.\n"
      ],
      "metadata": {
        "id": "H2KlIbstymDc"
      }
    },
    {
      "cell_type": "code",
      "source": [
        "# For n = 15, m = 12\n",
        "estimates = run_trials(num_trials, num_samples, package_size=15, num_types=12)"
      ],
      "metadata": {
        "colab": {
          "base_uri": "https://localhost:8080/"
        },
        "id": "sYApKQ-29gmz",
        "outputId": "bc783ddc-2a4a-4ad5-d632-5c268cee12c1"
      },
      "execution_count": 11,
      "outputs": [
        {
          "output_type": "stream",
          "name": "stdout",
          "text": [
            "Results for n=15, m=12\n",
            "['0.00326500', '0.00329900', '0.00332500', '0.00334700', '0.00333300', '0.00330500', '0.00330500', '0.00337100', '0.00331100', '0.00331900']\n",
            "mean: 0.00331800\n",
            "Time taken: 153.03 seconds\n"
          ]
        }
      ]
    },
    {
      "cell_type": "markdown",
      "source": [
        "With a package size of 15, the chances are further improved to about 1 in 300."
      ],
      "metadata": {
        "id": "M8-7z1Ixyyx1"
      }
    },
    {
      "cell_type": "code",
      "metadata": {
        "colab": {
          "base_uri": "https://localhost:8080/"
        },
        "id": "pud1zgl2RvPg",
        "outputId": "b2d3107f-69e1-4879-e260-bea1b1d3103e"
      },
      "source": [
        "# For n = 25, m = 12\n",
        "estimates = run_trials(num_trials, num_samples, package_size=25, num_types=12)"
      ],
      "execution_count": 12,
      "outputs": [
        {
          "output_type": "stream",
          "name": "stdout",
          "text": [
            "Results for n=25, m=12\n",
            "['0.18147000', '0.18225200', '0.18248600', '0.18188100', '0.18221900', '0.18172500', '0.18191700', '0.18214600', '0.18178800', '0.18222400']\n",
            "mean: 0.18201080\n",
            "Time taken: 246.21 seconds\n"
          ]
        }
      ]
    },
    {
      "cell_type": "markdown",
      "metadata": {
        "id": "15e3ZBkGV0V9"
      },
      "source": [
        "With a package size of 25, the estimated probability is something that's reasonably frequent: About 18% or a little better than a 1 in 6 chance of getting all 12 flavors."
      ]
    },
    {
      "cell_type": "markdown",
      "metadata": {
        "id": "hSn07U2vauZL"
      },
      "source": [
        "# Analytical Solution\n",
        "A numerical approximation (here based on a simulation, though not all numerical methods are based on simulation) is fairly easy to code, but determining an analytical (closed-form) solution will give us the exact answer, and generally \"feels\" nicer. However, this requires a bit more effort.\n",
        "\n",
        "The first thing to realize is that our gummy bear package represents a sample from the [_multinomial distribution_](https://en.wikipedia.org/wiki/Multinomial_distribution). Such a distribution represents the potential outcomes from conducting $n$ trials, each of which can produce one of $m$ different results or categories. The outcome is then the counts for each of the $m$ categories after $n$ trials.\n",
        "\n",
        "I've [written about the multinomial distribution](https://peterchng.com/blog/2020/10/23/building-binomial-and-multinomial-samplers-in-java/) before, but basically with a package size of $n$ gummy bears and $m$ unique flavors, each of the gummy bears represents a trial where one of $m$ flavors is selected.\n",
        "\n",
        "Thus, we want to calculate the probability that a sample from this multinomial distribution contains at least one of each gummy bear flavor.\n",
        "\n",
        "## Definitions\n",
        "Let's clarify the variables we'll use in the following sections:\n",
        "\n",
        "- $n$: The number of gummy bears per package (number of trials in a multinomial distribution)\n",
        "- $m$: The number of different flavors of gummy bears (number of categories in a multinomial distribution)\n",
        "- $X_i$: The random variable representing the count of the number of gummy bears of flavor $i$ and $i \\in [1, m]$\n",
        "- $x_i$: The actual count of gummy bears for flavor $i$\n",
        "- $p_i$: The probability of flavor $i$. Since we assumed all flavors are equally probable, all of these are equal, i.e. $p_i = p = 1/m$\n"
      ]
    },
    {
      "cell_type": "markdown",
      "metadata": {
        "id": "MeXpfO14GcgW"
      },
      "source": [
        "## Solving for the special case of $n = m$\n",
        "Before coming up with a general approach, let's look at the specific case where the package size of gummy bears is exactly equal to the number of flavors, i.e. $n = m$.\n",
        "\n",
        "In this case, in order to get all flavors in the package, you have to get one (and exactly one) of each type of gummy bear in the package. We can use the probability mass function (PMF) of the multinomial distribution to compute the exact probability of this.\n",
        "\n",
        "The PMF of the multinomial distribution is defined as:\n",
        "\n",
        "$$\n",
        "f(x_1, ... x_m; n, p_1, ... p_m) = P(X_1 = x_1, ..., X_m = x_m)\n",
        "$$\n",
        "\n",
        "$$\n",
        "= {n!\\over{x_1! \\cdots x_m!}}p_1^{x_1}...p_m^{x_m}\n",
        "$$\n",
        "\n",
        "It is written in terms of the number of each flavor of gummy bear of we expect ($x_i$) and the probabilities associated with each ($p_i$), (i.e. gummy bear flavor $x_i$ has probability $p_i$ of being chosen), and the number of gummy bears in each package, $n$.\n",
        "\n",
        "Plugging in values for $n = m = 12$ and our assumption that all flavors are equally probable, i.e. $p_i = p = 1/12$ yields the expression:\n",
        "\n",
        "$$\n",
        "{12!\\over{1! \\cdots 1!}}\\left(1\\over{12}\\right)^{12}\n",
        "$$\n",
        "\n",
        "This reduces to:\n",
        "\n",
        "$$\n",
        "{12!\\over{12^{12}}} \\approx 0.0000537\n",
        "$$\n",
        "\n",
        "This value closely aligns with the estimation we previously obtained through our numerical or simulation approach.\n",
        "\n",
        "To get an intuitive understanding why this expression is correct, we can rewrite the above expression as:\n",
        "\n",
        "$$\n",
        "{12\\over{12}}\\times{11\\over{12}}\\times \\cdots \\times {1\\over{12}}\n",
        "$$\n",
        "\n",
        "This can be explained as:\n",
        "1. Imagine assembling the package of 12 gummy bears one bear at a time.\n",
        "2. For the first gummy bear, you can pick any flavor, which represents a probability of 100% or $12/12$.\n",
        "3. For the next gummy bear, since we can only have one of each type, we only have 11 choices out of 12, so the probability is reduced to $11/12$.\n",
        "4. The probability for each subsequent choice is reduced by the same fraction, until the last gummy bear, where you must pick the last flavor that hasn't yet been picked, yielding a probability of $1/12$.\n"
      ]
    },
    {
      "cell_type": "markdown",
      "source": [
        "## Solving for specific cases where $n \\gt m$\n",
        "\n",
        "When the $n \\gt m$, i.e. the package size is larger than the number of unique flavors, determining an analytical solution to the problem is trickier because there is more than one outcome that satisfies our requirement of \"at least one gummy bear of each flavor\".\n",
        "\n",
        "It's obvious that as we increase the package size, the probability of getting all flavors will increase, since we have more chances to get at least one of each flavor. That is, we should expect $P(\\text{get all flavors} \\: | \\: n > m) \\gt P(\\text{get all flavors} \\: | \\: n = m)$. However, exactly _how_ the probability increases isn't obvious.\n",
        "\n",
        "Let's look at a few specific cases of $n > m$ to try and figure out the pattern for a general approach."
      ],
      "metadata": {
        "id": "KQr0les38aDO"
      }
    },
    {
      "cell_type": "markdown",
      "metadata": {
        "id": "7npt95JgYgON"
      },
      "source": [
        "### Solution for $n = 13, m = 12$\n",
        "\n",
        "As a first attempt to tackle this, let's increase $n$ by one to $n = 13$ and try to solve for this specific case. Because there are 13 gummy bears per package, you can have _at most_ 2 of the same flavor and still have all 12 flavors. That is, all the valid configurations consist of two gummy bears of one flavor, and exactly one gummy bear for the remaining 11.\n",
        "\n",
        "Because there are 12 gummy bear flavors, there are 12 such configurations, and each has the same probability because we previously assumed all gummy bears were equally probable. We can then calculate the solution as:\n",
        "\n",
        "$$\n",
        "12 \\times P(\\text{get 2 of one flavor and 1 of each remaining flavor})\n",
        "$$\n",
        "\n",
        "The probability term can again be calculated using the multinomial PMF. Plugging in values, we get this solution:\n",
        "\n",
        "$$\n",
        "= 12 \\times {13!\\over{2!}}\\left(1\\over{12}\\right)^{13} \\approx 0.00034920091\n",
        "$$\n",
        "\n",
        "This value again aligns closely with the estimates we obtained above using a numerical approximation.\n"
      ]
    },
    {
      "cell_type": "markdown",
      "source": [
        "### Solution for $n = 14, m = 12$\n",
        "\n",
        "In this case, after ensuring each flavor gets one gummy bear assigned to it, there are two (2) extra gummy bears to distribute. Any way that these 2 extra gummy bears are distributed across the 12 flavors is a valid package configuration. Thus, computing the probability is reduced to the following steps:\n",
        "\n",
        "1. How many ways (or _configurations_) are there to distribute the extra gummy bears across the flavors?\n",
        "2. What is the probability of each of those configurations?\n",
        "3. The solution is then the sum of these probabilities.\n",
        "\n",
        "Step (1) is a _combinatorics_ problem, and step (2) can be found using the multinomial PMF as before.\n",
        "\n",
        "If you're familiar with combinatorics (I am not), there is an approach called [_Stars and Bars_](https://en.wikipedia.org/wiki/Stars_and_bars_%28combinatorics%29) that can be used to solve problems like \"_how many ways are there to distribute $n$ balls across $k$ bins_?\"\n",
        "\n",
        "At first I thought this approach could be used to solve the problem, unfortunately by itself, it cannot. While this method will tell us how many ways we can distribute the 2 remaining gummy bears across the 12 flavors, not all of these configurations have the _same_ probability. So, we have to look at each configuration individually.\n",
        "\n",
        "For 2 extra gummy bears, there are **two configurations** of how these could be distributed across the 12 flavors:\n",
        "\n",
        "1. The 2 extra gummy bears go to a _single_ flavor\n",
        "2. One extra gummy bear goes to one flavor, and one goes to another _different_ flavor.\n",
        "\n",
        "Because the counts for each flavor differ here, the probability for each of these configurations differ due to the factorial term in the multinomial PMF. Recall its form:\n",
        "\n",
        "$$\n",
        "{n!\\over{x_1! \\cdots x_m!}}p_1^{x_1}...p_m^{x_m}\n",
        "$$\n",
        "\n",
        "Now, we have to figure out how many ways we can obtain each of the two configurations:\n",
        "\n",
        "- For (1), how many ways are there to have the extra 2 gummy bears going to a single flavor?\n",
        "Because there are 12 flavors, this is simply 12. (You can also view it as ${12}\\choose{1}$ because we are picking 1 flavor of the 12)\n",
        "- For (2), how many ways are there to have the 2 extra gummy bears go to two different flavors?\n",
        "Following our previous reasoning, because there are 12 flavors, this is ${12}\\choose{2}$.\n",
        "\n",
        "We can add up these two numbers and check the total number of combinations against the [stars and bars](https://en.wikipedia.org/wiki/Stars_and_bars_%28combinatorics%29) method. \n",
        "\n",
        "- Adding up the two values yields: ${{12}\\choose{1}} + {{12}\\choose{2}} = 78$. \n",
        "- Using stars and bars to find out how many ways to distribute 2 gummy bears over 12 flavors yields the expression ${{2 + 12 - 1}\\choose{12 - 1}} = {{13}\\choose{11}} = 78$.\n",
        "\n",
        "So, our reasoning seems correct.\n",
        "\n",
        "We can now write the solution as:\n",
        "\n",
        "$$\n",
        "{{12}\\choose{1}} \\times P(\\text{A}) + {{12}\\choose{2}} \\times P(\\text{B})\n",
        "$$\n",
        "\n",
        "where\n",
        "\n",
        "- $A$: The two extra gummy bears go to a single flavor.\n",
        "- $B$: The two extra gummy bears go to different flavors.\n",
        "\n",
        "This evaluates to:\n",
        "\n",
        "$$\n",
        "= {{12}\\choose{1}} \\times {14!\\over{3!}}\\left(1\\over{12}\\right)^{14} + {{12}\\choose{2}} \\times {14!\\over{2!2!}}\\left(1\\over{12}\\right)^{14}\n",
        "$$\n",
        "\n",
        "$$\n",
        "\\approx 0.00125615327\n",
        "$$\n",
        "\n",
        "This value is again close to our estimate from the numerical approach."
      ],
      "metadata": {
        "id": "pxniIMp6E5-d"
      }
    },
    {
      "cell_type": "markdown",
      "source": [
        "### Solution for $n = 15, m = 12$\n",
        "\n",
        "In this case, after ensuring each flavor gets one gummy bear, there are 3 remaining gummy bears to distribute. Let's use our prior approach to solve this one.\n",
        "\n",
        "How many configurations are there? We can break down the number 3 in the following manner:\n",
        "\n",
        "1. The $(3)$ configuration: All 3 go to one flavor.\n",
        "2. The $(2, 1)$ configuration: 2 goes to one flavor, 1 goes to another.\n",
        "3. The $(1, 1, 1)$ configuration: 1 goes to one flavor, 1 goes to another, and 1 goes to yet another.\n",
        "\n",
        "For (1): How many ways are there such that all 3 go to one flavor? This is again ${{12}\\choose{1}} = 12$.\n",
        "\n",
        "For (2): This is a bit tricky, but let's break it down this way:\n",
        "- The first two have to go to different flavors, which we'll call $a$ and $b$. From before, we know this is ${{12}\\choose{2}} = 66$\n",
        "- The third one can go to flavor $a$ or $b$. Because there are two flavors here, this is equivalent to ${{2}\\choose{1}} = 2$\n",
        "- Thus there are ${{12}\\choose{2}}{{2}\\choose{1}} = 132$ different ways for the $(2, 1)$ configuration.\n",
        "\n",
        "For (3): This is equal to ${{12}\\choose{3}} = 220$ different ways for the $(1, 1, 1)$ configuration.\n",
        "\n",
        "The total number of ways is thus $12 + 132 + 220 = 364$. Using the stars and bars method to check, we find that there are also ${{3 + 12 - 1}\\choose{12 - 1}} = {{14}\\choose{11}} = 364$ ways to distribute 3 flavors across 12 gummy bears, so our approach seems correct.\n",
        "\n",
        "Calculating the sum of the probabilities of these configurations yields the expression:\n",
        "\n",
        "$$\n",
        "= 12 \\times {15!\\over{4!}}\\left(1\\over{12}\\right)^{15} + 132 \\times {15!\\over{3!2!}}\\left(1\\over{12}\\right)^{15} + 220 \\times {15!\\over{2!2!2!}}\\left(1\\over{12}\\right)^{15}\n",
        "$$\n",
        "\n",
        "$$\n",
        "\\approx 0.00331013362\n",
        "$$"
      ],
      "metadata": {
        "id": "n3WnFlqFLHm0"
      }
    },
    {
      "cell_type": "markdown",
      "source": [
        "## A general approach for $n > m$\n",
        "After solving for a few specific cases, each with increasing complexity as the value of $(n - m)$ increases, we can begin to draft a general approach that uses both combinatorics and probability:\n",
        "\n",
        "1. The number $(n - m)$ represents the remaining (or extra) gummy bears after each flavor has gotten one gummy bear assigned. These can be distributed in any way across the $m$ flavors.\n",
        "2. Determine the **valid configurations** by doing an [integer partition](https://en.wikipedia.org/wiki/Partition_(number_theory)) of the value $(n - m)$.\n",
        "  - a. For example the number $3$ can be written as a sum of positive integers in the following way: $(3)$, $(2 + 1)$, and $(1 + 1 + 1)$.\n",
        "  - b. These are the configurations of how the extra gummy bears can be distributed across the flavors.\n",
        "  - c. Each of these configurations will have a separate probability that can be calculated from the multinomial PMF.\n",
        "3. For each configuration, determine the **number of ways that configuration can be achieved**. This is the trickiest part!\n",
        "4. Multiply the number of ways for each configuration (3) by the probability for each configuration (2c) and sum the results - this will be the exact solution.\n",
        "\n",
        "This approach gets tedious as the number of extra gummy bears increases, which is why I did not attempt to solve this analytically for $n = 25$. Unfortunately, I could not find a better way for a general approach.\n"
      ],
      "metadata": {
        "id": "R2-OGS1MvkGw"
      }
    },
    {
      "cell_type": "markdown",
      "source": [
        "## An alternative approache using the multinomial CDF?\n",
        "\n",
        "The probability of getting a package of size $n$ with all $m$ gummy bear flavors can be expressed this way:\n",
        "\n",
        "$$\n",
        "P(X_1 \\geq 1, X_2 \\geq 1, ...,  X_{m} \\geq 1) \\hspace{5mm} \\text{when} \\hspace{5mm} \\sum_{i = 0}^{m} x_i = n\n",
        "$$\n",
        "\n",
        "That is, we're looking for the probability that we get at least one of each flavor in a package of $n$ gummy bears.\n",
        "\n",
        "This is _almost_ the complement of the cumulative distribution function (CDF). The multinomial distribution is a multivariate distribution (the samples are vectors rather than scalars) and a multivariate CDF has the form:\n",
        "\n",
        "$$\n",
        "F(x_1, x_2, ..., x_m) = P(X_1 \\leq x_1, X_2 \\leq x_2, ...,  X_m \\leq x_m)\n",
        "$$\n",
        "\n",
        "So, if we could determine the CDF for the multinomial distribution, we could probably work out an expression for the solution to our problem. However, CDFs for multivariate distributions tend to be complicated, and it wasn't obvious to me how to compute the CDF other than through a naive brute-force approach of summing up all the appropriate PMF values.\n",
        "\n",
        "After doing a bit of searching, I found [this 1981 paper](https://projecteuclid.org/journals/annals-of-statistics/volume-9/issue-5/A-Representation-for-Multinomial-Cumulative-Distribution-Functions/10.1214/aos/1176345593.full) from _The Annals of Statistics_ by [Bruce Levin](https://www.publichealth.columbia.edu/people/our-faculty/bl6) which offers a closed-form representation of the multinomial CDF. It expresses the multinomial distribution as a conditional distribution of independent Poisson random variables subject to a fixed sum, and uses that to derive an expression for the multinomial CDF.\n",
        "\n",
        "This could be used to solve the Gummy Bear Problem here, though I have not done so, since the CDF also involved calculating the probability for a sum of independent right-truncated Poisson RVs, which I haven't figured out how to do yet. (See this [Ph.D disseration from 1968](https://dr.lib.iastate.edu/entities/publication/ec3f45af-ff35-40a5-82fe-3ecbf2d803a2) for more on truncated Poisson distributions)"
      ],
      "metadata": {
        "id": "WUwTc0ThzU1b"
      }
    },
    {
      "cell_type": "markdown",
      "source": [
        "# Conclusion\n",
        "\n",
        "Determining a solution to this Gummy Bear Problem can get complicated depending on the approach, despite the problem being simple to state.\n",
        "\n",
        "For a numerical approximation, the solution is fairly straightforward: Write some code using a source of randomness, then run a bunch of simulations and collect the results. We have to verify the code for correctness, but we don't really have to understand much probability theory or combinatorics. However, this solution only gives us an estimate. We can improve the accuracy of the estimation by running more simulations and taking more CPU time.\n",
        "\n",
        "For the analytical solution, we have to apply both combinatorics to figure out the number of valid package configurations, and also probability theory in the form of the multinomial distribution to calculate the probability of each of those valid configurations. We can then come up with an expression for the solution, which may still be quite involved! However, the overall calculation isn't as computationally complex as the simulation done for the numerical approximation, and will give us the _exact_ answer rather than an approximation. Furthermore, understanding the analytical solution may give you a deeper appreciation for the problem.\n",
        "\n",
        "We also simplified this problem by making certain assumptions: Equal probability across all flavors and independence between gummy bear selection. Removing these assumptions would make the numerical solution slightly more complex to code, but also make the analytical solution much more tougher to reason about.\n",
        "\n",
        "Most real-world problems are much more complex than the Gummy Bear Problem presented here, and may not even have analytical (closed-form) solutions. This is why numerical analysis methods are so commonplace!\n",
        "\n",
        "**And for the record**: The package of gummy bears I got contained 13 gummy bears, and I _did not_ get all 12 flavors."
      ],
      "metadata": {
        "id": "LZRZ7TxrvMBF"
      }
    },
    {
      "cell_type": "code",
      "source": [
        ""
      ],
      "metadata": {
        "id": "qzAuTpPEN749"
      },
      "execution_count": null,
      "outputs": []
    }
  ]
}